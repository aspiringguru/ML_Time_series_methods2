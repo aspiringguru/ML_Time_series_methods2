{
 "cells": [
  {
   "cell_type": "code",
   "execution_count": 94,
   "metadata": {},
   "outputs": [
    {
     "name": "stdout",
     "output_type": "stream",
     "text": [
      "libraries loaded.\n"
     ]
    }
   ],
   "source": [
    "# Compare Algorithms\n",
    "import pandas\n",
    "import matplotlib.pyplot as plt\n",
    "from pylab import rcParams\n",
    "#\n",
    "from sklearn import model_selection\n",
    "from sklearn.linear_model import LogisticRegression\n",
    "from sklearn.tree import DecisionTreeClassifier\n",
    "from sklearn.neighbors import KNeighborsClassifier\n",
    "from sklearn.discriminant_analysis import LinearDiscriminantAnalysis\n",
    "from sklearn.naive_bayes import GaussianNB\n",
    "from sklearn.svm import SVC\n",
    "#\n",
    "from sklearn.model_selection import train_test_split\n",
    "from sklearn import metrics\n",
    "#\n",
    "import os\n",
    "print (\"libraries loaded.\")"
   ]
  },
  {
   "cell_type": "code",
   "execution_count": 93,
   "metadata": {},
   "outputs": [
    {
     "name": "stdout",
     "output_type": "stream",
     "text": [
      "D:\\2017_working\\gitrepos\\ML_time_series_training\n"
     ]
    }
   ],
   "source": [
    "print (os.getcwd())"
   ]
  },
  {
   "cell_type": "code",
   "execution_count": 18,
   "metadata": {},
   "outputs": [
    {
     "name": "stdout",
     "output_type": "stream",
     "text": [
      "<class 'pandas.core.frame.DataFrame'> (768, 9)\n"
     ]
    }
   ],
   "source": [
    "# load dataset\n",
    "#url = \"https://archive.ics.uci.edu/ml/machine-learning-databases/pima-indians-diabetes/pima-indians-diabetes.data\"\n",
    "filename = \"pima-indians-diabetes.data.csv\"\n",
    "names = ['preg', 'plas', 'pres', 'skin', 'test', 'mass', 'pedi', 'age', 'class']\n",
    "dataframe = pandas.read_csv(filename, names=names)\n",
    "print (type(dataframe), dataframe.shape)"
   ]
  },
  {
   "cell_type": "code",
   "execution_count": 19,
   "metadata": {},
   "outputs": [
    {
     "name": "stdout",
     "output_type": "stream",
     "text": [
      "['preg', 'plas', 'pres', 'skin', 'test', 'mass', 'pedi', 'age', 'class']\n",
      "Unique values\n",
      "preg : 17\n",
      "plas : 136\n",
      "pres : 47\n",
      "skin : 51\n",
      "test : 186\n",
      "mass : 248\n",
      "pedi : 517\n",
      "age : 52\n",
      "class : 2\n"
     ]
    }
   ],
   "source": [
    "print (names)\n",
    "print (\"Unique values\")\n",
    "for name in names:\n",
    "    print(name, \":\", dataframe[name].unique().shape[0])"
   ]
  },
  {
   "cell_type": "code",
   "execution_count": 20,
   "metadata": {},
   "outputs": [
    {
     "name": "stdout",
     "output_type": "stream",
     "text": [
      "<class 'numpy.ndarray'> (768, 8)\n",
      "<class 'numpy.ndarray'> (768,)\n"
     ]
    }
   ],
   "source": [
    "array = dataframe.values\n",
    "X = array[:,0:8]\n",
    "Y = array[:,8]\n",
    "print (type(X), X.shape)\n",
    "print (type(Y), Y.shape)"
   ]
  },
  {
   "cell_type": "code",
   "execution_count": 7,
   "metadata": {},
   "outputs": [
    {
     "name": "stdout",
     "output_type": "stream",
     "text": [
      "<class 'list'> 6 <class 'tuple'>\n",
      "models setup completed.\n"
     ]
    }
   ],
   "source": [
    "# prepare configuration for cross validation test harness\n",
    "seed = 7\n",
    "# prepare models\n",
    "models = []\n",
    "models.append(('LR', LogisticRegression()))\n",
    "models.append(('LDA', LinearDiscriminantAnalysis()))\n",
    "models.append(('KNN', KNeighborsClassifier()))\n",
    "models.append(('CART', DecisionTreeClassifier()))\n",
    "models.append(('NB', GaussianNB()))\n",
    "models.append(('SVM', SVC()))\n",
    "print (type(models), len(models), type(models[0]))\n",
    "print (\"models setup completed.\")"
   ]
  },
  {
   "cell_type": "code",
   "execution_count": 27,
   "metadata": {},
   "outputs": [
    {
     "name": "stdout",
     "output_type": "stream",
     "text": [
      "type(cv_results): <class 'numpy.ndarray'> (10,)\n",
      "LR: 0.769515 (0.048411) max=0.857143, min=0.701299\n",
      "type(cv_results): <class 'numpy.ndarray'> (10,)\n",
      "LDA: 0.773462 (0.051592) max=0.844156, min=0.675325\n",
      "type(cv_results): <class 'numpy.ndarray'> (10,)\n",
      "KNN: 0.726555 (0.061821) max=0.831169, min=0.636364\n",
      "type(cv_results): <class 'numpy.ndarray'> (10,)\n",
      "CART: 0.689986 (0.064204) max=0.779221, min=0.584416\n",
      "type(cv_results): <class 'numpy.ndarray'> (10,)\n",
      "NB: 0.755178 (0.042766) max=0.818182, min=0.675325\n",
      "type(cv_results): <class 'numpy.ndarray'> (10,)\n",
      "SVM: 0.651025 (0.072141) max=0.818182, min=0.558442\n",
      "loop through models type completed.\n"
     ]
    }
   ],
   "source": [
    "# evaluate each model in turn\n",
    "results = []\n",
    "names = []\n",
    "scoring = 'accuracy'\n",
    "#nb: models is a list of tuples.\n",
    "for name, model in models:\n",
    "\tkfold = model_selection.KFold(n_splits=10, random_state=seed)\n",
    "\tcv_results = model_selection.cross_val_score(model, X, Y, cv=kfold, scoring=scoring)\n",
    "    #http://scikit-learn.org/stable/modules/generated/sklearn.model_selection.cross_val_score.html\n",
    "\tprint (\"type(cv_results):\", type(cv_results), cv_results.shape)\n",
    "\tresults.append(cv_results)\n",
    "\tnames.append(name)\n",
    "\tmsg = \"%s: %f (%f) max=%f, min=%f\" % (name, cv_results.mean(), cv_results.std(), cv_results.max(), cv_results.min())\n",
    "\tprint(msg)\n",
    "print (\"loop through models type completed.\")\n"
   ]
  },
  {
   "cell_type": "code",
   "execution_count": 16,
   "metadata": {},
   "outputs": [
    {
     "data": {
      "image/png": "[encoded data removed]",
      "text/plain": [
       "<matplotlib.figure.Figure at 0x1e9fef73e10>"
      ]
     },
     "metadata": {},
     "output_type": "display_data"
    }
   ],
   "source": [
    "# boxplot algorithm comparison\n",
    "rcParams['figure.figsize'] = 20, 10\n",
    "fig = plt.figure()\n",
    "fig.suptitle('Algorithm Comparison')\n",
    "ax = fig.add_subplot(111)\n",
    "plt.boxplot(results)\n",
    "ax.set_xticklabels(names)\n",
    "plt.show()"
   ]
  },
  {
   "cell_type": "markdown",
   "metadata": {},
   "source": [
    "LogisticRegression  \n",
    "LinearDiscriminantAnalysis  \n",
    "KNeighborsClassifier  \n",
    "DecisionTreeClassifier  \n",
    "GaussianNB  \n",
    "SVC  "
   ]
  },
  {
   "cell_type": "code",
   "execution_count": 100,
   "metadata": {},
   "outputs": [
    {
     "name": "stdout",
     "output_type": "stream",
     "text": [
      "X_train: <class 'numpy.ndarray'> (514, 8)\n",
      "X_test: <class 'numpy.ndarray'> (254, 8)\n",
      "y_train: <class 'numpy.ndarray'> (514,)\n",
      "y_test: <class 'numpy.ndarray'> (254,)\n"
     ]
    }
   ],
   "source": [
    "#calculate score using different methods and compare.\n",
    "comparisonScore = []\n",
    "#\n",
    "X_train, X_test, y_train, y_test = train_test_split(X, Y, test_size=0.33, random_state=42)\n",
    "print (\"X_train:\", type(X_train), X_train.shape)\n",
    "print (\"X_test:\", type(X_test), X_test.shape)\n",
    "print (\"y_train:\", type(y_train), y_train.shape)\n",
    "print (\"y_test:\", type(y_test), y_test.shape)"
   ]
  },
  {
   "cell_type": "code",
   "execution_count": 101,
   "metadata": {},
   "outputs": [
    {
     "name": "stdout",
     "output_type": "stream",
     "text": [
      "[ 0.  0.  0.  0.  0.  0.  0.  1.  1.  1.]\n",
      "[[142  26]\n",
      " [ 33  53]]\n"
     ]
    },
    {
     "data": {
      "text/plain": [
       "[['LogisticRegression', 0.76771653543307083]]"
      ]
     },
     "execution_count": 101,
     "metadata": {},
     "output_type": "execute_result"
    }
   ],
   "source": [
    "# instantiate a logistic regression model, and fit with X and y\n",
    "model = LogisticRegression()\n",
    "model = model.fit(X_train, y_train)\n",
    "print (model.predict(X_test[0:10, :]))\n",
    "#alternative method of calculating model.score(X_test, y_test)\n",
    "y_pred_class = model.predict(X_test)\n",
    "#metrics.accuracy_score(y_test, y_pred_class)\n",
    "print(metrics.confusion_matrix(y_test, y_pred_class))\n",
    "# check the accuracy on the training set\n",
    "comparisonScore.append( [\"LogisticRegression\", model.score(X_test, y_test) ] )\n",
    "comparisonScore"
   ]
  },
  {
   "cell_type": "code",
   "execution_count": 85,
   "metadata": {},
   "outputs": [
    {
     "name": "stdout",
     "output_type": "stream",
     "text": [
      "[ 0.  0.  0.  0.  1.  0.  0.  1.  1.  1.]\n"
     ]
    },
    {
     "data": {
      "text/plain": [
       "[['LogisticRegression', 0.76771653543307083],\n",
       " ['LinearDiscriminantAnalysis', 0.74015748031496065]]"
      ]
     },
     "execution_count": 85,
     "metadata": {},
     "output_type": "execute_result"
    }
   ],
   "source": [
    "#http://scikit-learn.org/stable/modules/generated/sklearn.discriminant_analysis.LinearDiscriminantAnalysis.html\n",
    "model = LinearDiscriminantAnalysis()\n",
    "model = model.fit(X_train, y_train)\n",
    "print (model.predict(X_test[0:10, :]))\n",
    "# check the accuracy against the test set\n",
    "comparisonScore.append( [\"LinearDiscriminantAnalysis\", model.score(X_test, y_test)] )\n",
    "comparisonScore"
   ]
  },
  {
   "cell_type": "code",
   "execution_count": 86,
   "metadata": {},
   "outputs": [
    {
     "name": "stdout",
     "output_type": "stream",
     "text": [
      "[ 0.  1.  0.  1.  1.  1.  0.  0.  1.  1.]\n"
     ]
    },
    {
     "data": {
      "text/plain": [
       "[['LogisticRegression', 0.76771653543307083],\n",
       " ['LinearDiscriminantAnalysis', 0.74015748031496065],\n",
       " ['KNeighborsClassifier', 0.67322834645669294]]"
      ]
     },
     "execution_count": 86,
     "metadata": {},
     "output_type": "execute_result"
    }
   ],
   "source": [
    "#http://scikit-learn.org/stable/modules/generated/sklearn.neighbors.KNeighborsClassifier.html\n",
    "model = KNeighborsClassifier(n_neighbors=3)\n",
    "model.fit(X_train, y_train)\n",
    "print (model.predict(X_test[0:10, :]))\n",
    "# check the accuracy against the test set\n",
    "comparisonScore.append( [\"KNeighborsClassifier\", model.score(X_test, y_test)] )\n",
    "comparisonScore"
   ]
  },
  {
   "cell_type": "code",
   "execution_count": 87,
   "metadata": {},
   "outputs": [
    {
     "name": "stdout",
     "output_type": "stream",
     "text": [
      "[ 1.  1.  0.  0.  0.  0.  0.  0.  1.  1.]\n"
     ]
    },
    {
     "data": {
      "text/plain": [
       "[['LogisticRegression', 0.76771653543307083],\n",
       " ['LinearDiscriminantAnalysis', 0.74015748031496065],\n",
       " ['KNeighborsClassifier', 0.67322834645669294],\n",
       " ['DecisionTreeClassifier', 0.70866141732283461]]"
      ]
     },
     "execution_count": 87,
     "metadata": {},
     "output_type": "execute_result"
    }
   ],
   "source": [
    "#http://scikit-learn.org/stable/modules/generated/sklearn.tree.DecisionTreeClassifier.html\n",
    "model = DecisionTreeClassifier(random_state=0)\n",
    "model.fit(X_train, y_train)\n",
    "print (model.predict(X_test[0:10, :]))\n",
    "# check the accuracy against the test set\n",
    "comparisonScore.append( [\"DecisionTreeClassifier\", model.score(X_test, y_test)] )\n",
    "comparisonScore"
   ]
  },
  {
   "cell_type": "code",
   "execution_count": 88,
   "metadata": {},
   "outputs": [
    {
     "name": "stdout",
     "output_type": "stream",
     "text": [
      "[ 0.  0.  0.  0.  1.  1.  0.  0.  0.  1.]\n"
     ]
    },
    {
     "data": {
      "text/plain": [
       "[['LogisticRegression', 0.76771653543307083],\n",
       " ['LinearDiscriminantAnalysis', 0.74015748031496065],\n",
       " ['KNeighborsClassifier', 0.67322834645669294],\n",
       " ['DecisionTreeClassifier', 0.70866141732283461],\n",
       " ['GaussianNB', 0.73622047244094491]]"
      ]
     },
     "execution_count": 88,
     "metadata": {},
     "output_type": "execute_result"
    }
   ],
   "source": [
    "#http://scikit-learn.org/stable/modules/generated/sklearn.naive_bayes.GaussianNB.html\n",
    "model = GaussianNB()\n",
    "model.fit(X_train, y_train)\n",
    "print (model.predict(X_test[0:10, :]))\n",
    "# check the accuracy against the test set\n",
    "comparisonScore.append( [\"GaussianNB\", model.score(X_test, y_test)] )\n",
    "comparisonScore"
   ]
  },
  {
   "cell_type": "code",
   "execution_count": 89,
   "metadata": {},
   "outputs": [
    {
     "name": "stdout",
     "output_type": "stream",
     "text": [
      "[ 0.  0.  0.  0.  0.  0.  0.  0.  0.  0.]\n"
     ]
    },
    {
     "data": {
      "text/plain": [
       "[['LogisticRegression', 0.76771653543307083],\n",
       " ['LinearDiscriminantAnalysis', 0.74015748031496065],\n",
       " ['KNeighborsClassifier', 0.67322834645669294],\n",
       " ['DecisionTreeClassifier', 0.70866141732283461],\n",
       " ['GaussianNB', 0.73622047244094491],\n",
       " ['SVC', 0.66141732283464572]]"
      ]
     },
     "execution_count": 89,
     "metadata": {},
     "output_type": "execute_result"
    }
   ],
   "source": [
    "#http://scikit-learn.org/stable/modules/generated/sklearn.svm.SVC.html\n",
    "model = SVC()\n",
    "model.fit(X_train, y_train)\n",
    "print (model.predict(X_test[0:10, :]))\n",
    "#NB: overfitted?\n",
    "# check the accuracy against the test set\n",
    "comparisonScore.append( [\"SVC\", model.score(X_test, y_test)] )\n",
    "comparisonScore"
   ]
  },
  {
   "cell_type": "code",
   "execution_count": 90,
   "metadata": {},
   "outputs": [
    {
     "data": {
      "text/html": [
       "<div>\n",
       "<style>\n",
       "    .dataframe thead tr:only-child th {\n",
       "        text-align: right;\n",
       "    }\n",
       "\n",
       "    .dataframe thead th {\n",
       "        text-align: left;\n",
       "    }\n",
       "\n",
       "    .dataframe tbody tr th {\n",
       "        vertical-align: top;\n",
       "    }\n",
       "</style>\n",
       "<table border=\"1\" class=\"dataframe\">\n",
       "  <thead>\n",
       "    <tr style=\"text-align: right;\">\n",
       "      <th></th>\n",
       "      <th>model_type</th>\n",
       "      <th>score</th>\n",
       "    </tr>\n",
       "  </thead>\n",
       "  <tbody>\n",
       "    <tr>\n",
       "      <th>0</th>\n",
       "      <td>LogisticRegression</td>\n",
       "      <td>0.767717</td>\n",
       "    </tr>\n",
       "    <tr>\n",
       "      <th>1</th>\n",
       "      <td>LinearDiscriminantAnalysis</td>\n",
       "      <td>0.740157</td>\n",
       "    </tr>\n",
       "    <tr>\n",
       "      <th>4</th>\n",
       "      <td>GaussianNB</td>\n",
       "      <td>0.736220</td>\n",
       "    </tr>\n",
       "    <tr>\n",
       "      <th>3</th>\n",
       "      <td>DecisionTreeClassifier</td>\n",
       "      <td>0.708661</td>\n",
       "    </tr>\n",
       "    <tr>\n",
       "      <th>2</th>\n",
       "      <td>KNeighborsClassifier</td>\n",
       "      <td>0.673228</td>\n",
       "    </tr>\n",
       "    <tr>\n",
       "      <th>5</th>\n",
       "      <td>SVC</td>\n",
       "      <td>0.661417</td>\n",
       "    </tr>\n",
       "  </tbody>\n",
       "</table>\n",
       "</div>"
      ],
      "text/plain": [
       "                   model_type     score\n",
       "0          LogisticRegression  0.767717\n",
       "1  LinearDiscriminantAnalysis  0.740157\n",
       "4                  GaussianNB  0.736220\n",
       "3      DecisionTreeClassifier  0.708661\n",
       "2        KNeighborsClassifier  0.673228\n",
       "5                         SVC  0.661417"
      ]
     },
     "execution_count": 90,
     "metadata": {},
     "output_type": "execute_result"
    }
   ],
   "source": [
    "df = pandas.DataFrame(comparisonScore, columns=['model_type','score'])\n",
    "list(df)\n",
    "df.sort_values('score', ascending=False)"
   ]
  },
  {
   "cell_type": "code",
   "execution_count": null,
   "metadata": {
    "collapsed": true
   },
   "outputs": [],
   "source": []
  },
  {
   "cell_type": "code",
   "execution_count": null,
   "metadata": {
    "collapsed": true
   },
   "outputs": [],
   "source": []
  }
 ],
 "metadata": {
  "kernelspec": {
   "display_name": "Python 3",
   "language": "python",
   "name": "python3"
  },
  "language_info": {
   "codemirror_mode": {
    "name": "ipython",
    "version": 3
   },
   "file_extension": ".py",
   "mimetype": "text/x-python",
   "name": "python",
   "nbconvert_exporter": "python",
   "pygments_lexer": "ipython3",
   "version": "3.6.1"
  }
 },
 "nbformat": 4,
 "nbformat_minor": 2
}
