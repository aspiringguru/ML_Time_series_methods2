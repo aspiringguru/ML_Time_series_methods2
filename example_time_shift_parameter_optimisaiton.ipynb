{
 "cells": [
  {
   "cell_type": "code",
   "execution_count": 43,
   "metadata": {},
   "outputs": [
    {
     "name": "stdout",
     "output_type": "stream",
     "text": [
      "libraries loaded\n"
     ]
    }
   ],
   "source": [
    "#https://machinelearningmastery.com/feature-selection-time-series-forecasting-python/\n",
    "#nb: minor data cleaning to remove csv formatting errors in original.\n",
    "from pandas import Series\n",
    "from pandas import DataFrame\n",
    "import pandas\n",
    "import numpy\n",
    "print (\"libraries loaded\")"
   ]
  },
  {
   "cell_type": "code",
   "execution_count": 41,
   "metadata": {},
   "outputs": [
    {
     "name": "stdout",
     "output_type": "stream",
     "text": [
      "<class 'pandas.core.series.Series'> (96,)\n",
      "1961-01-01     687.0\n",
      "1961-02-01     646.0\n",
      "1961-03-01    -189.0\n",
      "1961-04-01    -611.0\n",
      "1961-05-01    1339.0\n",
      "dtype: float64\n",
      "_________________________________\n",
      "             t-12       t   t-11   t-10    t-9     t-8     t-7     t-6  \\\n",
      "1961-01-01    NaN   687.0    NaN    NaN    NaN     NaN     NaN     NaN   \n",
      "1961-02-01    NaN   646.0    NaN    NaN    NaN     NaN     NaN     NaN   \n",
      "1961-03-01    NaN  -189.0    NaN    NaN    NaN     NaN     NaN     NaN   \n",
      "1961-04-01    NaN  -611.0    NaN    NaN    NaN     NaN     NaN     NaN   \n",
      "1961-05-01    NaN  1339.0    NaN    NaN    NaN     NaN     NaN     NaN   \n",
      "1961-06-01    NaN    30.0    NaN    NaN    NaN     NaN     NaN     NaN   \n",
      "1961-07-01    NaN  1645.0    NaN    NaN    NaN     NaN     NaN   687.0   \n",
      "1961-08-01    NaN  -276.0    NaN    NaN    NaN     NaN   687.0   646.0   \n",
      "1961-09-01    NaN   561.0    NaN    NaN    NaN   687.0   646.0  -189.0   \n",
      "1961-10-01    NaN   470.0    NaN    NaN  687.0   646.0  -189.0  -611.0   \n",
      "1961-11-01    NaN  3395.0    NaN  687.0  646.0  -189.0  -611.0  1339.0   \n",
      "1961-12-01    NaN   360.0  687.0  646.0 -189.0  -611.0  1339.0    30.0   \n",
      "1962-01-01  687.0  3440.0  646.0 -189.0 -611.0  1339.0    30.0  1645.0   \n",
      "\n",
      "               t-5     t-4     t-3     t-2     t-1  \n",
      "1961-01-01     NaN     NaN     NaN     NaN     NaN  \n",
      "1961-02-01     NaN     NaN     NaN     NaN   687.0  \n",
      "1961-03-01     NaN     NaN     NaN   687.0   646.0  \n",
      "1961-04-01     NaN     NaN   687.0   646.0  -189.0  \n",
      "1961-05-01     NaN   687.0   646.0  -189.0  -611.0  \n",
      "1961-06-01   687.0   646.0  -189.0  -611.0  1339.0  \n",
      "1961-07-01   646.0  -189.0  -611.0  1339.0    30.0  \n",
      "1961-08-01  -189.0  -611.0  1339.0    30.0  1645.0  \n",
      "1961-09-01  -611.0  1339.0    30.0  1645.0  -276.0  \n",
      "1961-10-01  1339.0    30.0  1645.0  -276.0   561.0  \n",
      "1961-11-01    30.0  1645.0  -276.0   561.0   470.0  \n",
      "1961-12-01  1645.0  -276.0   561.0   470.0  3395.0  \n",
      "1962-01-01  -276.0   561.0   470.0  3395.0   360.0  \n",
      "dataframe.count(): t-12    83\n",
      "t       83\n",
      "t-11    83\n",
      "t-10    83\n",
      "t-9     83\n",
      "t-8     83\n",
      "t-7     83\n",
      "t-6     83\n",
      "t-5     83\n",
      "t-4     83\n",
      "t-3     83\n",
      "t-2     83\n",
      "t-1     83\n",
      "dtype: int64\n"
     ]
    }
   ],
   "source": [
    "# load dataset\n",
    "series = Series.from_csv('seasonally_adjusted.csv', header=None)\n",
    "print (type(series), series.shape)\n",
    "print (series.head() )\n",
    "print (\"_________________________________\")\n",
    "# reframe as supervised learning\n",
    "dataframe = DataFrame()\n",
    "#create columns for multiple timeshifts.\n",
    "for i in range(12,0,-1):\n",
    "    dataframe['t-'+str(i)] = series.shift(i)\n",
    "    dataframe['t'] = series.values\n",
    "print(dataframe.head(13))\n",
    "dataframe = dataframe[13:]\n",
    "print (\"dataframe.count():\", dataframe.count())\n",
    "# save to new file\n",
    "dataframe.to_csv('lags_12months_features.csv', index=False)"
   ]
  },
  {
   "cell_type": "code",
   "execution_count": 17,
   "metadata": {},
   "outputs": [
    {
     "name": "stdout",
     "output_type": "stream",
     "text": [
      "t-12    83\n",
      "t       83\n",
      "t-11    83\n",
      "t-10    83\n",
      "t-9     83\n",
      "t-8     83\n",
      "t-7     83\n",
      "t-6     83\n",
      "t-5     83\n",
      "t-4     83\n",
      "t-3     83\n",
      "t-2     83\n",
      "t-1     83\n",
      "dtype: int64\n",
      "(83, 13)\n",
      "Series([], Name: t, dtype: float64)\n"
     ]
    }
   ],
   "source": [
    "print (dataframe.count())\n",
    "print (dataframe.shape)\n",
    "#print (dataframe.isnull() )\n",
    "print (dataframe['t'][dataframe['t'].isnull()] )"
   ]
  },
  {
   "cell_type": "code",
   "execution_count": 23,
   "metadata": {},
   "outputs": [
    {
     "name": "stdout",
     "output_type": "stream",
     "text": [
      "(83, 13)\n",
      "X.shape: (83, 12)\n",
      "y.shape: (83,)\n",
      "model.feature_importances_: [ 0.05576947  0.11611643  0.09068402  0.05570585  0.07793815  0.08377444\n",
      "  0.08702181  0.0587311   0.10969621  0.05737765  0.14253953  0.06464534]\n"
     ]
    },
    {
     "data": {
      "image/png": "[encoded data removed]",
      "text/plain": [
       "<matplotlib.figure.Figure at 0x22a7bd0a7f0>"
      ]
     },
     "metadata": {},
     "output_type": "display_data"
    }
   ],
   "source": [
    "from sklearn.ensemble import RandomForestRegressor\n",
    "from matplotlib import pyplot\n",
    "from matplotlib import rcParams\n",
    "rcParams['figure.figsize'] = (10, 6)\n",
    "print (dataframe.shape)\n",
    "#convert dataframe to array for ease of manipulation\n",
    "array = dataframe.values\n",
    "# split into input and output\n",
    "X = array[:,0:-1]#select all columns except last column, reverse order of columns\n",
    "y = array[:,-1]#select last column only.\n",
    "print (\"X.shape:\", X.shape)\n",
    "print (\"y.shape:\", y.shape)\n",
    "# fit random forest model\n",
    "model = RandomForestRegressor(n_estimators=500, random_state=1)\n",
    "model.fit(X, y)\n",
    "# show importance scores\n",
    "print(\"model.feature_importances_:\", model.feature_importances_)\n",
    "# plot importance scores\n",
    "names = dataframe.columns.values[0:-1]\n",
    "ticks = [i for i in range(len(names))]\n",
    "pyplot.bar(ticks, model.feature_importances_)\n",
    "pyplot.xticks(ticks, names)\n",
    "pyplot.show()"
   ]
  },
  {
   "cell_type": "code",
   "execution_count": 55,
   "metadata": {},
   "outputs": [
    {
     "name": "stdout",
     "output_type": "stream",
     "text": [
      "<class 'numpy.ndarray'> (12,)\n",
      "<class 'pandas.core.series.Series'> (12,)\n",
      "<class 'pandas.core.series.Series'> (12,)\n",
      "<class 'pandas.core.frame.DataFrame'> (12, 2) ['names', 'importance']\n",
      "   names  importance\n",
      "0   t-12    0.055769\n",
      "1      t    0.116116\n",
      "2   t-11    0.090684\n",
      "3   t-10    0.055706\n",
      "4    t-9    0.077938\n",
      "5    t-8    0.083774\n",
      "6    t-7    0.087022\n",
      "7    t-6    0.058731\n",
      "8    t-5    0.109696\n",
      "9    t-4    0.057378\n",
      "10   t-3    0.142540\n",
      "11   t-2    0.064645\n",
      "after sorting\n",
      "   names  importance\n",
      "10   t-3    0.142540\n",
      "1      t    0.116116\n",
      "8    t-5    0.109696\n",
      "2   t-11    0.090684\n",
      "6    t-7    0.087022\n",
      "5    t-8    0.083774\n",
      "4    t-9    0.077938\n",
      "11   t-2    0.064645\n",
      "7    t-6    0.058731\n",
      "9    t-4    0.057378\n",
      "0   t-12    0.055769\n",
      "3   t-10    0.055706\n"
     ]
    }
   ],
   "source": [
    "print (type(model.feature_importances_), model.feature_importances_.shape)\n",
    "type(model)\n",
    "temp = pandas.Series(model.feature_importances_)\n",
    "names = pandas.Series(names)\n",
    "print (type(temp), temp.shape)\n",
    "print (type(names), names.shape)\n",
    "namesFeatureImportances = pandas.concat([names, temp], axis=1)\n",
    "namesFeatureImportances.columns = ['names', 'importance']\n",
    "print (type(namesFeatureImportances), namesFeatureImportances.shape, list(namesFeatureImportances))\n",
    "namesFeatureImportances = namesFeatureImportances.sort_values(['importance'], ascending=[False])\n",
    "print (\"after sorting\")\n",
    "print (namesFeatureImportances)\n",
    "#NB: odd result, t-11 has higher importance than t-7 here, but when RFE used (below) t-11 is ranked behind t-7. "
   ]
  },
  {
   "cell_type": "code",
   "execution_count": 30,
   "metadata": {},
   "outputs": [
    {
     "name": "stdout",
     "output_type": "stream",
     "text": [
      "type(rfe): <class 'sklearn.feature_selection.rfe.RFE'>\n",
      "type(fit): <class 'sklearn.feature_selection.rfe.RFE'>\n",
      "Selected Features:\n",
      "type(names): <class 'numpy.ndarray'> (12,)\n",
      "['t-12' 't' 't-11' 't-10' 't-9' 't-8' 't-7' 't-6' 't-5' 't-4' 't-3' 't-2']\n",
      "t True\n",
      "t-7 True\n",
      "t-5 True\n",
      "t-3 True\n"
     ]
    },
    {
     "data": {
      "image/png": "[encoded data removed]",
      "text/plain": [
       "<matplotlib.figure.Figure at 0x22a7e656eb8>"
      ]
     },
     "metadata": {},
     "output_type": "display_data"
    }
   ],
   "source": [
    "from sklearn.feature_selection import RFE\n",
    "#http://scikit-learn.org/stable/modules/generated/sklearn.feature_selection.RFE.html\n",
    "#http://scikit-learn.org/stable/modules/feature_selection.html#rfe\n",
    "\n",
    "# perform feature selection\n",
    "rfe = RFE(RandomForestRegressor(n_estimators=500, random_state=1), 4)\n",
    "print (\"type(rfe):\", type(rfe))\n",
    "fit = rfe.fit(X, y)\n",
    "print (\"type(fit):\", type(fit))\n",
    "# report selected features\n",
    "print('Selected Features:')\n",
    "names = dataframe.columns.values[0:-1]\n",
    "print (\"type(names):\", type(names), names.shape)\n",
    "print (names)\n",
    "\n",
    "for i in range(len(fit.support_)):\n",
    "\tif fit.support_[i]:\n",
    "\t\tprint(names[i], fit.support_[i])\n",
    "# plot feature rank\n",
    "names = dataframe.columns.values[0:-1]\n",
    "ticks = [i for i in range(len(names))]\n",
    "pyplot.bar(ticks, fit.ranking_)\n",
    "pyplot.xticks(ticks, names)\n",
    "pyplot.show()\n",
    "#NB: fit ranking: 1 = best, ranked first."
   ]
  }
 ],
 "metadata": {
  "kernelspec": {
   "display_name": "Python 3",
   "language": "python",
   "name": "python3"
  },
  "language_info": {
   "codemirror_mode": {
    "name": "ipython",
    "version": 3
   },
   "file_extension": ".py",
   "mimetype": "text/x-python",
   "name": "python",
   "nbconvert_exporter": "python",
   "pygments_lexer": "ipython3",
   "version": "3.6.1"
  }
 },
 "nbformat": 4,
 "nbformat_minor": 2
}
