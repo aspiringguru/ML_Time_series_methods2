{
 "cells": [
  {
   "cell_type": "code",
   "execution_count": 8,
   "metadata": {},
   "outputs": [
    {
     "name": "stdout",
     "output_type": "stream",
     "text": [
      "libraries loaded.\n"
     ]
    }
   ],
   "source": [
    "%matplotlib inline\n",
    "import pandas as pd\n",
    "import numpy as np\n",
    "import matplotlib.pyplot as plt\n",
    "import datetime\n",
    "from dateutil.relativedelta import relativedelta\n",
    "import seaborn as sns\n",
    "import statsmodels.api as sm  \n",
    "from statsmodels.tsa.stattools import acf  \n",
    "from statsmodels.tsa.stattools import pacf\n",
    "from statsmodels.tsa.seasonal import seasonal_decompose\n",
    "print (\"libraries loaded.\")"
   ]
  },
  {
   "cell_type": "code",
   "execution_count": 9,
   "metadata": {},
   "outputs": [
    {
     "name": "stdout",
     "output_type": "stream",
     "text": [
      "df.shape: (114, 1)\n",
      "df.tail()\n",
      "          monthly ridership\n",
      "Month                     \n",
      "1969-02               1425\n",
      "1969-03               1419\n",
      "1969-04               1432\n",
      "1969-05               1394\n",
      "1969-06               1327\n",
      "df.head()\n",
      "      index  monthly ridership\n",
      "0  1960-01                648\n",
      "1  1960-02                646\n",
      "2  1960-03                639\n",
      "3  1960-04                654\n",
      "4  1960-05                630\n"
     ]
    }
   ],
   "source": [
    "df = pd.read_csv('portland-oregon-average-monthly.csv', index_col=0)\n",
    "print (\"df.shape:\", df.shape)\n",
    "print (\"df.tail()\\n\", df.tail())\n",
    "df.index.name=None\n",
    "df.reset_index(inplace=True)\n",
    "print (\"df.head()\\n\", df.head())\n"
   ]
  },
  {
   "cell_type": "code",
   "execution_count": 10,
   "metadata": {},
   "outputs": [
    {
     "data": {
      "text/plain": [
       "['index', 'monthly ridership']"
      ]
     },
     "execution_count": 10,
     "metadata": {},
     "output_type": "execute_result"
    }
   ],
   "source": [
    "list(df)"
   ]
  },
  {
   "cell_type": "code",
   "execution_count": 13,
   "metadata": {},
   "outputs": [
    {
     "name": "stdout",
     "output_type": "stream",
     "text": [
      "<class 'datetime.datetime'> 1973-01-01 00:00:00\n",
      "[datetime.datetime(1973, 1, 1, 0, 0), datetime.datetime(1973, 2, 1, 0, 0), datetime.datetime(1973, 3, 1, 0, 0), datetime.datetime(1973, 4, 1, 0, 0), datetime.datetime(1973, 5, 1, 0, 0)]\n",
      "            monthly ridership\n",
      "1973-01-01                648\n",
      "1973-02-01                646\n",
      "1973-03-01                639\n",
      "1973-04-01                654\n",
      "1973-05-01                630\n"
     ]
    }
   ],
   "source": [
    "start = datetime.datetime.strptime(\"1973-01-01\", \"%Y-%m-%d\")\n",
    "print (type(start), start)\n",
    "date_list = [start + relativedelta(months=x) for x in range(0,114)]\n",
    "print (date_list[0:5])\n",
    "df['index'] =date_list\n",
    "df.set_index(['index'], inplace=True)\n",
    "df.index.name=None\n",
    "print (df.head())"
   ]
  },
  {
   "cell_type": "code",
   "execution_count": 14,
   "metadata": {
    "collapsed": true
   },
   "outputs": [],
   "source": [
    "df.columns= ['riders']\n",
    "df['riders'] = df.riders.apply(lambda x: int(x)*100)\n"
   ]
  },
  {
   "cell_type": "code",
   "execution_count": 16,
   "metadata": {},
   "outputs": [
    {
     "name": "stdout",
     "output_type": "stream",
     "text": [
      "(114, 1) ['riders']\n"
     ]
    }
   ],
   "source": [
    "print (df.shape, list(df))"
   ]
  },
  {
   "cell_type": "code",
   "execution_count": null,
   "metadata": {
    "collapsed": true
   },
   "outputs": [],
   "source": []
  }
 ],
 "metadata": {
  "kernelspec": {
   "display_name": "Python 3",
   "language": "python",
   "name": "python3"
  },
  "language_info": {
   "codemirror_mode": {
    "name": "ipython",
    "version": 3
   },
   "file_extension": ".py",
   "mimetype": "text/x-python",
   "name": "python",
   "nbconvert_exporter": "python",
   "pygments_lexer": "ipython3",
   "version": "3.6.1"
  }
 },
 "nbformat": 4,
 "nbformat_minor": 2
}
