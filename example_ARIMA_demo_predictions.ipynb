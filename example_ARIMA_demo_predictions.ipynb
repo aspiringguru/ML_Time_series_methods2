{
 "cells": [
  {
   "cell_type": "code",
   "execution_count": 1,
   "metadata": {
    "collapsed": true
   },
   "outputs": [],
   "source": [
    "#https://machinelearningmastery.com/make-sample-forecasts-arima-python/"
   ]
  },
  {
   "cell_type": "code",
   "execution_count": 11,
   "metadata": {},
   "outputs": [
    {
     "name": "stdout",
     "output_type": "stream",
     "text": [
      "libraries loaded\n"
     ]
    }
   ],
   "source": [
    "# line plot of time series\n",
    "from pandas import Series\n",
    "from matplotlib import pyplot\n",
    "from statsmodels.tsa.arima_model import ARIMA\n",
    "import numpy\n",
    "print (\"libraries loaded\")"
   ]
  },
  {
   "cell_type": "code",
   "execution_count": 6,
   "metadata": {},
   "outputs": [
    {
     "name": "stdout",
     "output_type": "stream",
     "text": [
      "<class 'pandas.core.series.Series'> (3649,)\n"
     ]
    }
   ],
   "source": [
    "# load dataset\n",
    "series = Series.from_csv('daily-minimum-temperatures.csv', header=0)\n",
    "\n",
    "print (type(series), series.shape)"
   ]
  },
  {
   "cell_type": "code",
   "execution_count": 4,
   "metadata": {},
   "outputs": [
    {
     "name": "stdout",
     "output_type": "stream",
     "text": [
      "1981-01-01\n",
      "1981-01-02    17.9\n",
      "1981-01-03    18.8\n",
      "1981-01-04    14.6\n",
      "1981-01-05    15.8\n",
      "1981-01-06    15.8\n",
      "1981-01-07    15.8\n",
      "1981-01-08    17.4\n",
      "1981-01-09    21.8\n",
      "1981-01-10    20.0\n",
      "1981-01-11    16.2\n",
      "1981-01-12    13.3\n",
      "1981-01-13    16.7\n",
      "1981-01-14    21.5\n",
      "1981-01-15    25.0\n",
      "1981-01-16    20.7\n",
      "1981-01-17    20.6\n",
      "1981-01-18    24.8\n",
      "1981-01-19    17.7\n",
      "1981-01-20    15.5\n",
      "1981-01-21    18.2\n",
      "Name: 20.7, dtype: float64\n"
     ]
    }
   ],
   "source": [
    "# display first few rows\n",
    "print(series.head(20))"
   ]
  },
  {
   "cell_type": "code",
   "execution_count": 5,
   "metadata": {},
   "outputs": [
    {
     "data": {
      "image/png": "[encoded data removed]",
      "text/plain": [
       "<matplotlib.figure.Figure at 0x1e2c68caba8>"
      ]
     },
     "metadata": {},
     "output_type": "display_data"
    }
   ],
   "source": [
    "# line plot of dataset\n",
    "series.plot()\n",
    "pyplot.show()"
   ]
  },
  {
   "cell_type": "code",
   "execution_count": 7,
   "metadata": {},
   "outputs": [
    {
     "name": "stdout",
     "output_type": "stream",
     "text": [
      "Dataset 3642, Validation 7\n"
     ]
    }
   ],
   "source": [
    "split_point = len(series) - 7\n",
    "dataset, validation = series[0:split_point], series[split_point:]\n",
    "print('Dataset %d, Validation %d' % (len(dataset), len(validation)))\n",
    "dataset.to_csv('daily-minimum-temperatures-dataset.csv')\n",
    "validation.to_csv('daily-minimum-temperatures-validation.csv')"
   ]
  },
  {
   "cell_type": "code",
   "execution_count": 12,
   "metadata": {},
   "outputs": [
    {
     "name": "stdout",
     "output_type": "stream",
     "text": [
      "functions loaded\n"
     ]
    }
   ],
   "source": [
    "# create a differenced series\n",
    "def difference(dataset, interval=1):\n",
    "    diff = list()\n",
    "    for i in range(interval, len(dataset)):\n",
    "        value = dataset[i] - dataset[i - interval]\n",
    "        diff.append(value)\n",
    "    return numpy.array(diff)\n",
    "\n",
    "# invert differenced value\n",
    "def inverse_difference(history, yhat, interval=1):\n",
    "    return yhat + history[-interval]\n",
    "\n",
    "# create a differenced series\n",
    "def difference(dataset, interval=1):\n",
    "\tdiff = list()\n",
    "\tfor i in range(interval, len(dataset)):\n",
    "\t\tvalue = dataset[i] - dataset[i - interval]\n",
    "\t\tdiff.append(value)\n",
    "\treturn numpy.array(diff)\n",
    "\n",
    "print (\"functions loaded\")"
   ]
  },
  {
   "cell_type": "code",
   "execution_count": 18,
   "metadata": {},
   "outputs": [
    {
     "name": "stdout",
     "output_type": "stream",
     "text": [
      "start\n",
      "type(X): <class 'numpy.ndarray'> (3642,)\n",
      "                              ARMA Model Results                              \n",
      "==============================================================================\n",
      "Dep. Variable:                      y   No. Observations:                 3277\n",
      "Model:                     ARMA(7, 1)   Log Likelihood               -8671.331\n",
      "Method:                       css-mle   S.D. of innovations              3.411\n",
      "Date:                Sat, 23 Sep 2017   AIC                          17362.662\n",
      "Time:                        11:35:08   BIC                          17423.609\n",
      "Sample:                             0   HQIC                         17384.486\n",
      "                                                                              \n",
      "==============================================================================\n",
      "                 coef    std err          z      P>|z|      [0.025      0.975]\n",
      "------------------------------------------------------------------------------\n",
      "const          0.0149      0.132      0.113      0.910      -0.244       0.274\n",
      "ar.L1.y        1.1434      0.288      3.973      0.000       0.579       1.707\n",
      "ar.L2.y       -0.4355      0.154     -2.830      0.005      -0.737      -0.134\n",
      "ar.L3.y        0.0968      0.042      2.297      0.022       0.014       0.179\n",
      "ar.L4.y        0.0121      0.029      0.420      0.675      -0.045       0.069\n",
      "ar.L5.y       -0.0101      0.029     -0.344      0.731      -0.068       0.047\n",
      "ar.L6.y        0.0121      0.027      0.453      0.650      -0.040       0.064\n",
      "ar.L7.y        0.0086      0.024      0.360      0.719      -0.038       0.056\n",
      "ma.L1.y       -0.6166      0.287     -2.146      0.032      -1.180      -0.053\n",
      "                                    Roots                                    \n",
      "=============================================================================\n",
      "                 Real           Imaginary           Modulus         Frequency\n",
      "-----------------------------------------------------------------------------\n",
      "AR.1            1.2238           -0.0000j            1.2238           -0.0000\n",
      "AR.2            1.2581           -1.0691j            1.6510           -0.1121\n",
      "AR.3            1.2581           +1.0691j            1.6510            0.1121\n",
      "AR.4            0.0322           -2.0205j            2.0208           -0.2475\n",
      "AR.5            0.0322           +2.0205j            2.0208            0.2475\n",
      "AR.6           -2.6003           -1.3142j            2.9135           -0.4255\n",
      "AR.7           -2.6003           +1.3142j            2.9135            0.4255\n",
      "MA.1            1.6217           +0.0000j            1.6217            0.0000\n",
      "-----------------------------------------------------------------------------\n",
      "end\n"
     ]
    }
   ],
   "source": [
    "# load dataset\n",
    "#series = Series.from_csv('daily-minimum-temperatures-dataset.csv', header=None)\n",
    "#dataset.to_csv('daily-minimum-temperatures-dataset.csv')\n",
    "#NB: \n",
    "\n",
    "print (\"start\")\n",
    "# seasonal difference\n",
    "X = dataset.values\n",
    "print (\"type(X):\", type(X), X.shape)\n",
    "days_in_year = 365\n",
    "differenced = difference(X, days_in_year)\n",
    "# fit model\n",
    "model = ARIMA(differenced, order=(7,0,1))\n",
    "#NB: this ARIMA model could be improved by tuning parameters.\n",
    "\n",
    "model_fit = model.fit(disp=0)\n",
    "# print summary of fit model\n",
    "print(model_fit.summary())\n",
    "print (\"end\")"
   ]
  },
  {
   "cell_type": "code",
   "execution_count": 32,
   "metadata": {},
   "outputs": [
    {
     "name": "stdout",
     "output_type": "stream",
     "text": [
      "<class 'numpy.ndarray'>\n",
      "forecast value : 14.861\n"
     ]
    }
   ],
   "source": [
    "# one-step out-of sample forecast\n",
    "forecast = model_fit.forecast()[0]\n",
    "print (type(forecast))\n",
    "# invert the differenced forecast to something usable\n",
    "forecast = inverse_difference(X, forecast, days_in_year)\n",
    "#print (type(forecast), forecast.shape, forecast, type(forecast[0]), forecast[0])\n",
    "print (\"forecast value :\", float(\"{:.3f}\".format(forecast[0])) )"
   ]
  },
  {
   "cell_type": "code",
   "execution_count": 33,
   "metadata": {},
   "outputs": [
    {
     "name": "stdout",
     "output_type": "stream",
     "text": [
      "<class 'statsmodels.tsa.arima_model.ARMAResultsWrapper'>\n",
      "start_index: 3277\n",
      "end_index: 3277\n",
      "<class 'numpy.ndarray'> (1,) [-1.53864208]\n"
     ]
    }
   ],
   "source": [
    "model_fit# one-step out of sample forecast\n",
    "print (type(model_fit))\n",
    "start_index = len(differenced)\n",
    "end_index = len(differenced)\n",
    "print (\"start_index:\", start_index)\n",
    "print (\"end_index:\", end_index)\n",
    "#NB: use indexes, had problems when tried datetime string or datetime object.\n",
    "forecast = model_fit.predict(start=start_index, end=end_index)\n",
    "print (type(forecast), forecast.shape, forecast)"
   ]
  },
  {
   "cell_type": "code",
   "execution_count": 36,
   "metadata": {},
   "outputs": [
    {
     "name": "stdout",
     "output_type": "stream",
     "text": [
      "<class 'numpy.ndarray'> (7,) [-1.53864208 -0.36893871  0.03232874  0.02320555  0.02294936  0.0167073\n",
      " -0.02389483]\n"
     ]
    }
   ],
   "source": [
    "# multi-step out-of-sample forecast\n",
    "forecast = model_fit.forecast(steps=7)[0]\n",
    "print (type(forecast), forecast.shape, forecast)"
   ]
  },
  {
   "cell_type": "code",
   "execution_count": 38,
   "metadata": {},
   "outputs": [
    {
     "name": "stdout",
     "output_type": "stream",
     "text": [
      "<class 'numpy.ndarray'> (3642,)\n",
      "<class 'list'> 3642\n",
      "Day 1: 14.861358\n",
      "Day 2: 15.631061\n",
      "Day 3: 13.332329\n",
      "Day 4: 11.723206\n",
      "Day 5: 10.422949\n",
      "Day 6: 14.416707\n",
      "Day 7: 12.676105\n"
     ]
    }
   ],
   "source": [
    "# invert the differenced forecast to something usable\n",
    "history = [x for x in X]\n",
    "print (type(X), X.shape)\n",
    "print (type(history), len(history))\n",
    "\n",
    "day = 1\n",
    "for yhat in forecast:\n",
    "\tinverted = inverse_difference(history, yhat, days_in_year)\n",
    "\tprint('Day %d: %f' % (day, inverted))\n",
    "\thistory.append(inverted)\n",
    "\tday += 1\n",
    "    "
   ]
  },
  {
   "cell_type": "code",
   "execution_count": 41,
   "metadata": {},
   "outputs": [
    {
     "name": "stdout",
     "output_type": "stream",
     "text": [
      "<class 'numpy.ndarray'>\n",
      "[-1.53864208 -0.36893871  0.03232874  0.02320555  0.02294936  0.0167073\n",
      " -0.02389483]\n",
      "<class 'numpy.ndarray'> (3642,)\n",
      "<class 'list'> 3642\n",
      "Day 1: 14.861358\n",
      "Day 2: 15.631061\n",
      "Day 3: 13.332329\n",
      "Day 4: 11.723206\n",
      "Day 5: 10.422949\n",
      "Day 6: 14.416707\n",
      "Day 7: 12.676105\n"
     ]
    }
   ],
   "source": [
    "# multi-step out-of-sample forecast\n",
    "start_index = len(differenced)\n",
    "end_index = start_index + 6\n",
    "forecast = model_fit.predict(start=start_index, end=end_index)\n",
    "print (type(forecast))\n",
    "print (forecast)\n",
    "\n",
    "history = [x for x in X]\n",
    "print (type(X), X.shape)\n",
    "print (type(history), len(history))\n",
    "\n",
    "day = 1\n",
    "for yhat in forecast:\n",
    "\tinverted = inverse_difference(history, yhat, days_in_year)\n",
    "\tprint('Day %d: %f' % (day, inverted))\n",
    "\thistory.append(inverted)\n",
    "\tday += 1\n",
    "    "
   ]
  },
  {
   "cell_type": "code",
   "execution_count": null,
   "metadata": {
    "collapsed": true
   },
   "outputs": [],
   "source": []
  }
 ],
 "metadata": {
  "kernelspec": {
   "display_name": "Python 3",
   "language": "python",
   "name": "python3"
  },
  "language_info": {
   "codemirror_mode": {
    "name": "ipython",
    "version": 3
   },
   "file_extension": ".py",
   "mimetype": "text/x-python",
   "name": "python",
   "nbconvert_exporter": "python",
   "pygments_lexer": "ipython3",
   "version": "3.6.1"
  }
 },
 "nbformat": 4,
 "nbformat_minor": 2
}
