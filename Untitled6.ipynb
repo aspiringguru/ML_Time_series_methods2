{
 "cells": [
  {
   "cell_type": "code",
   "execution_count": 1,
   "metadata": {
    "collapsed": true
   },
   "outputs": [],
   "source": [
    "#https://machinelearningmastery.com/grid-search-arima-hyperparameters-with-python/"
   ]
  },
  {
   "cell_type": "code",
   "execution_count": 27,
   "metadata": {},
   "outputs": [
    {
     "name": "stdout",
     "output_type": "stream",
     "text": [
      "libraries loaded\n"
     ]
    }
   ],
   "source": [
    "# line plot of time series\n",
    "from pandas import Series\n",
    "from pandas import read_csv\n",
    "from matplotlib import pyplot\n",
    "from statsmodels.tsa.arima_model import ARIMA\n",
    "import numpy\n",
    "import pandas\n",
    "from pandas import datetime\n",
    "from sklearn.metrics import mean_squared_error\n",
    "\n",
    "\n",
    "import warnings\n",
    "warnings.filterwarnings(\"ignore\")\n",
    "print (\"libraries loaded\")"
   ]
  },
  {
   "cell_type": "code",
   "execution_count": 34,
   "metadata": {},
   "outputs": [
    {
     "name": "stdout",
     "output_type": "stream",
     "text": [
      "function loaded\n"
     ]
    }
   ],
   "source": [
    "# evaluate an ARIMA model for a given order (p,d,q)\n",
    "\n",
    "def evaluate_arima_model(X, arima_order):\n",
    "    #print (\"evaluating arima model.\")\n",
    "    # prepare training dataset\n",
    "    train_size = int(len(X) * 0.66)\n",
    "    #split input dataset X into training & test, 2/3 : 1/3\n",
    "    train, test = X[0:train_size], X[train_size:]\n",
    "    history = [x for x in train]\n",
    "    #convert train to list\n",
    "    # make predictions\n",
    "    predictions = list()\n",
    "    for t in range(len(test)):\n",
    "        #create model\n",
    "        model = ARIMA(history, order=arima_order)\n",
    "        #fit model\n",
    "        model_fit = model.fit(disp=0)\n",
    "        #make forecasts\n",
    "        yhat = model_fit.forecast()[0]\n",
    "        #store forecast values in list\n",
    "        predictions.append(yhat)\n",
    "        #store test values in list\n",
    "        history.append(test[t])\n",
    "    # calculate out of sample error\n",
    "    #calc error between forecast values and actual values using mean squared error method.\n",
    "    error = mean_squared_error(test, predictions)\n",
    "    return error\n",
    "\n",
    "# evaluate combinations of p, d and q values for an ARIMA model\n",
    "# loop through possible combinations of p_values, d_values, q_values\n",
    "# records lowest mse and the values of  p_values, d_values, q_values.\n",
    "def evaluate_models(dataset, p_values, d_values, q_values):\n",
    "    #pass dataset to evaluate_arima_model\n",
    "    #use three nested loops to evaluate all combinations of p_values, d_values, q_values\n",
    "    #identify best score \n",
    "    dataset = dataset.astype('float32')\n",
    "    best_score, best_cfg = float(\"inf\"), None\n",
    "    for p in p_values:\n",
    "        for d in d_values:\n",
    "            for q in q_values:\n",
    "                order = (p,d,q)\n",
    "                try:\n",
    "                    mse = evaluate_arima_model(dataset, order)\n",
    "                    #print (\"for order=\", order, \", mse = \", mse)\n",
    "                    if mse < best_score:\n",
    "                        best_score, best_cfg = mse, order\n",
    "                    print('ARIMA%s MSE=%.3f' % (order,mse))\n",
    "                except:\n",
    "                    continue\n",
    "    print('Best ARIMA%s MSE=%.3f' % (best_cfg, best_score))\n",
    "print (\"function loaded\")"
   ]
  },
  {
   "cell_type": "code",
   "execution_count": 35,
   "metadata": {},
   "outputs": [
    {
     "name": "stdout",
     "output_type": "stream",
     "text": [
      "<class 'pandas.core.series.Series'> (35,)\n"
     ]
    }
   ],
   "source": [
    "# load dataset\n",
    "def parser(x):\n",
    "\treturn datetime.strptime('190'+x, '%Y-%m')\n",
    "series = read_csv('shampoo-sales.csv', header=0, parse_dates=[0], index_col=0, squeeze=True, date_parser=parser)\n",
    "print (type(series), series.shape)"
   ]
  },
  {
   "cell_type": "code",
   "execution_count": 36,
   "metadata": {},
   "outputs": [
    {
     "name": "stdout",
     "output_type": "stream",
     "text": [
      "ARIMA(0, 0, 0) MSE=55628.622\n",
      "ARIMA(0, 0, 1) MSE=40435.611\n",
      "ARIMA(0, 0, 2) MSE=25843.368\n",
      "ARIMA(0, 1, 0) MSE=18870.004\n",
      "ARIMA(0, 1, 1) MSE=10320.490\n",
      "ARIMA(0, 2, 0) MSE=68303.309\n",
      "ARIMA(0, 2, 1) MSE=19653.114\n",
      "ARIMA(1, 0, 0) MSE=23860.690\n",
      "ARIMA(1, 1, 0) MSE=7365.899\n",
      "ARIMA(1, 1, 1) MSE=6749.174\n",
      "ARIMA(1, 1, 2) MSE=5593.067\n",
      "ARIMA(1, 2, 0) MSE=20286.219\n",
      "ARIMA(2, 1, 0) MSE=5520.255\n",
      "ARIMA(2, 1, 1) MSE=7292.094\n",
      "ARIMA(2, 2, 0) MSE=10502.099\n",
      "ARIMA(4, 1, 0) MSE=6508.456\n",
      "ARIMA(4, 1, 1) MSE=7634.628\n",
      "ARIMA(4, 2, 1) MSE=4793.705\n",
      "ARIMA(6, 1, 1) MSE=6131.414\n",
      "Best ARIMA(4, 2, 1) MSE=4793.705\n"
     ]
    }
   ],
   "source": [
    "# evaluate parameters\n",
    "p_values = [0, 1, 2, 4, 6, 8, 10]\n",
    "d_values = range(0, 3)\n",
    "q_values = range(0, 3)\n",
    "warnings.filterwarnings(\"ignore\")\n",
    "evaluate_models(series.values, p_values, d_values, q_values)\n"
   ]
  },
  {
   "cell_type": "code",
   "execution_count": null,
   "metadata": {
    "collapsed": true
   },
   "outputs": [],
   "source": []
  }
 ],
 "metadata": {
  "kernelspec": {
   "display_name": "Python 3",
   "language": "python",
   "name": "python3"
  },
  "language_info": {
   "codemirror_mode": {
    "name": "ipython",
    "version": 3
   },
   "file_extension": ".py",
   "mimetype": "text/x-python",
   "name": "python",
   "nbconvert_exporter": "python",
   "pygments_lexer": "ipython3",
   "version": "3.6.1"
  }
 },
 "nbformat": 4,
 "nbformat_minor": 2
}
